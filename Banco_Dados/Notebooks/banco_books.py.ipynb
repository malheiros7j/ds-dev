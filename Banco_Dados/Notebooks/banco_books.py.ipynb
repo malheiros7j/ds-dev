{
 "cells": [
  {
   "cell_type": "code",
   "execution_count": 145,
   "id": "fcfee4c4",
   "metadata": {},
   "outputs": [],
   "source": [
    "import sqlite3\n",
    "import pandas as pd\n",
    "from sqlalchemy import create_engine\n",
    "\n",
    "books = pd.read_csv('books.csv')\n",
    "books = books.drop('Unnamed: 0',axis=1)\n",
    "\n",
    "books.columns = ['title','price','star_rating','category','status_stock','number_stock']\n",
    "\n",
    "consulta_books = \"\"\"\n",
    "\n",
    "    CREATE TABLE books(\n",
    "    title TEXT,\n",
    "    price REAL,\n",
    "    star_rating INTEGER,\n",
    "    category TEXT,\n",
    "    status_stock TEXT,\n",
    "    number_stock INTEGER\n",
    "    )\"\"\"\n",
    "\n",
    "\n",
    "## Conexão com o BD\n",
    "conn = sqlite3.connect('books.sqlite')\n",
    "cursor = conn.execute(consulta_books)\n",
    "conn.commit()"
   ]
  },
  {
   "cell_type": "code",
   "execution_count": 147,
   "id": "3a97eacf",
   "metadata": {},
   "outputs": [],
   "source": [
    "conn = create_engine('sqlite:///books.sqlite',echo=False)"
   ]
  },
  {
   "cell_type": "code",
   "execution_count": 152,
   "id": "9ca7e9df",
   "metadata": {},
   "outputs": [
    {
     "data": {
      "text/html": [
       "<div>\n",
       "<style scoped>\n",
       "    .dataframe tbody tr th:only-of-type {\n",
       "        vertical-align: middle;\n",
       "    }\n",
       "\n",
       "    .dataframe tbody tr th {\n",
       "        vertical-align: top;\n",
       "    }\n",
       "\n",
       "    .dataframe thead th {\n",
       "        text-align: right;\n",
       "    }\n",
       "</style>\n",
       "<table border=\"1\" class=\"dataframe\">\n",
       "  <thead>\n",
       "    <tr style=\"text-align: right;\">\n",
       "      <th></th>\n",
       "      <th>title</th>\n",
       "      <th>price</th>\n",
       "      <th>star_rating</th>\n",
       "      <th>category</th>\n",
       "      <th>status_stock</th>\n",
       "      <th>number_stock</th>\n",
       "    </tr>\n",
       "  </thead>\n",
       "  <tbody>\n",
       "    <tr>\n",
       "      <th>0</th>\n",
       "      <td>The Secret Garden</td>\n",
       "      <td>15.08</td>\n",
       "      <td>4</td>\n",
       "      <td>Classics</td>\n",
       "      <td>Instock</td>\n",
       "      <td>5</td>\n",
       "    </tr>\n",
       "    <tr>\n",
       "      <th>1</th>\n",
       "      <td>The Metamorphosis</td>\n",
       "      <td>28.58</td>\n",
       "      <td>ruim demais</td>\n",
       "      <td>Classics</td>\n",
       "      <td>Instock</td>\n",
       "      <td>5</td>\n",
       "    </tr>\n",
       "    <tr>\n",
       "      <th>2</th>\n",
       "      <td>The Pilgrim's Progress</td>\n",
       "      <td>50.26</td>\n",
       "      <td>2</td>\n",
       "      <td>Classics</td>\n",
       "      <td>Instock</td>\n",
       "      <td>4</td>\n",
       "    </tr>\n",
       "    <tr>\n",
       "      <th>3</th>\n",
       "      <td>The Hound of the Baskervilles (Sherlock Holmes...</td>\n",
       "      <td>14.82</td>\n",
       "      <td>2</td>\n",
       "      <td>Classics</td>\n",
       "      <td>Instock</td>\n",
       "      <td>4</td>\n",
       "    </tr>\n",
       "    <tr>\n",
       "      <th>4</th>\n",
       "      <td>Little Women (Little Women #1)</td>\n",
       "      <td>28.07</td>\n",
       "      <td>4</td>\n",
       "      <td>Classics</td>\n",
       "      <td>Instock</td>\n",
       "      <td>4</td>\n",
       "    </tr>\n",
       "  </tbody>\n",
       "</table>\n",
       "</div>"
      ],
      "text/plain": [
       "                                               title  price  star_rating  \\\n",
       "0                                  The Secret Garden  15.08            4   \n",
       "1                                  The Metamorphosis  28.58  ruim demais   \n",
       "2                             The Pilgrim's Progress  50.26            2   \n",
       "3  The Hound of the Baskervilles (Sherlock Holmes...  14.82            2   \n",
       "4                     Little Women (Little Women #1)  28.07            4   \n",
       "\n",
       "   category status_stock  number_stock  \n",
       "0  Classics     Instock              5  \n",
       "1  Classics     Instock              5  \n",
       "2  Classics     Instock              4  \n",
       "3  Classics     Instock              4  \n",
       "4  Classics     Instock              4  "
      ]
     },
     "execution_count": 152,
     "metadata": {},
     "output_type": "execute_result"
    }
   ],
   "source": [
    "consulta = \"\"\"\n",
    "    select * from books\"\"\"\n",
    "\n",
    "df = pd.read_sql_query(consulta,conn)\n",
    "df.head()"
   ]
  },
  {
   "cell_type": "code",
   "execution_count": 149,
   "id": "1258a5d1",
   "metadata": {},
   "outputs": [],
   "source": [
    "# Inser Table do DB\n",
    "books.to_sql('books',con=conn,if_exists='append',index=False)"
   ]
  },
  {
   "cell_type": "code",
   "execution_count": 151,
   "id": "80cfef83",
   "metadata": {},
   "outputs": [],
   "source": [
    "## Comandos\n",
    "consulta = \"\"\"\n",
    "    update books\n",
    "    set star_rating = 'ruim demais'\n",
    "    where star_rating = 1\n",
    "    \"\"\"\n",
    "conn = sqlite3.connect('books.sqlite')\n",
    "cursor = conn.execute(consulta)\n",
    "conn.commit()"
   ]
  },
  {
   "cell_type": "code",
   "execution_count": null,
   "id": "f6f7fbc4",
   "metadata": {},
   "outputs": [],
   "source": []
  }
 ],
 "metadata": {
  "kernelspec": {
   "display_name": "Python 3 (ipykernel)",
   "language": "python",
   "name": "python3"
  },
  "language_info": {
   "codemirror_mode": {
    "name": "ipython",
    "version": 3
   },
   "file_extension": ".py",
   "mimetype": "text/x-python",
   "name": "python",
   "nbconvert_exporter": "python",
   "pygments_lexer": "ipython3",
   "version": "3.10.4"
  }
 },
 "nbformat": 4,
 "nbformat_minor": 5
}
