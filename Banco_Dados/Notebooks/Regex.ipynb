{
 "cells": [
  {
   "cell_type": "markdown",
   "id": "b26b5110",
   "metadata": {},
   "source": [
    "## Regex\n",
    "\n",
    "O que são Regular Expressions?\n",
    "* Máscaras para acomodar strings dentro de um texto\n"
   ]
  },
  {
   "cell_type": "code",
   "execution_count": 7,
   "id": "ebd5988a",
   "metadata": {},
   "outputs": [],
   "source": [
    "import re\n",
    "\n",
    "text00 = '054.684.891-55'\n",
    "text01 = '0544.684.891-55'\n",
    "\n",
    "## Nome da rua\n",
    "## Numero da Residencia\n",
    "## Nome do bairro\n",
    "## Nome da cidade\n",
    "## Nome do Estado\n",
    "\n",
    "\n",
    "#text00 = '3 numeros 1 ponto 3 numeros 1 ponto 3 numeros 1 traco 2 numeros'\n",
    "# . qualquer caracter \n",
    "# d-> 0-9\n",
    "# ^ -> começo string $ -> final string\n",
    "\n",
    "regex = '^\\d{4}\\.\\d{3}\\.\\d{3}-\\d{2}$'"
   ]
  },
  {
   "cell_type": "code",
   "execution_count": 8,
   "id": "5a8c681a",
   "metadata": {},
   "outputs": [
    {
     "data": {
      "text/plain": [
       "True"
      ]
     },
     "execution_count": 8,
     "metadata": {},
     "output_type": "execute_result"
    }
   ],
   "source": [
    "bool(re.match(regex,text01))"
   ]
  },
  {
   "cell_type": "code",
   "execution_count": 20,
   "id": "96c2dc96",
   "metadata": {},
   "outputs": [],
   "source": [
    "\n",
    "texto = 'Rua Jose Ferreira da Costa, 95 - Santa Carmelia, Campo Grande - MS'\n",
    "texto1 = 'Avenida dos Trabalhadores, 403 - Centro, Mogi Guaçu - SP'\n",
    "texto2 = 'Alameda Moraes, 931 - Vila Golmes, Recife - PE'\n",
    "\n",
    "texto = [texto,texto1,texto2]"
   ]
  },
  {
   "cell_type": "markdown",
   "id": "4e8f91fe",
   "metadata": {},
   "source": [
    "## Função Match\n",
    "- Valida se uma string contém determinado padrão, porém o 'match' encontra somente o início da string"
   ]
  },
  {
   "cell_type": "code",
   "execution_count": 21,
   "id": "8bbf36f4",
   "metadata": {},
   "outputs": [
    {
     "name": "stdout",
     "output_type": "stream",
     "text": [
      "Rua Jose Ferreira da Costa\n",
      "Avenida dos Trabalhadores\n",
      "Alameda Moraes\n"
     ]
    }
   ],
   "source": [
    "# Nome da rua\n",
    "regex2 = '(.+?),'\n",
    "\n",
    "for t in texto:\n",
    "    print(re.match(regex2,t).group(1))"
   ]
  },
  {
   "cell_type": "code",
   "execution_count": 23,
   "id": "da14378d",
   "metadata": {},
   "outputs": [
    {
     "name": "stdout",
     "output_type": "stream",
     "text": [
      "95\n",
      "403\n",
      "931\n"
     ]
    }
   ],
   "source": [
    "# Numero da Residencia\n",
    "regex3 = '(\\d+)'\n",
    "\n",
    "for t in texto:\n",
    "    print(re.search(regex3,t).group(1))"
   ]
  },
  {
   "cell_type": "code",
   "execution_count": 28,
   "id": "0cab8522",
   "metadata": {},
   "outputs": [
    {
     "name": "stdout",
     "output_type": "stream",
     "text": [
      " Santa Carmelia\n",
      " Centro\n",
      " Vila Golmes\n"
     ]
    }
   ],
   "source": [
    "# Nome do Bairro\n",
    "regex4 = '-(.+),'\n",
    "\n",
    "for t in texto:\n",
    "    print(re.search(regex4,t).group(1))"
   ]
  },
  {
   "cell_type": "code",
   "execution_count": 31,
   "id": "2f25905f",
   "metadata": {},
   "outputs": [
    {
     "name": "stdout",
     "output_type": "stream",
     "text": [
      " Campo Grande \n",
      " Mogi Guaçu \n",
      " Recife \n"
     ]
    }
   ],
   "source": [
    "# Nome da cidade\n",
    "regex5 = ',(.[a-zA-Z].+)-'\n",
    "\n",
    "for t in texto:\n",
    "    print(re.search(regex5,t).group(1))"
   ]
  },
  {
   "cell_type": "code",
   "execution_count": 25,
   "id": "e58c995e",
   "metadata": {},
   "outputs": [
    {
     "name": "stdout",
     "output_type": "stream",
     "text": [
      " MS\n",
      " SP\n",
      " PE\n"
     ]
    }
   ],
   "source": [
    "#Nome do estado\n",
    "regex6 = '-(.\\w+$)'\n",
    "for t in texto:\n",
    "    print(re.search(regex6,t).group(1))"
   ]
  },
  {
   "cell_type": "code",
   "execution_count": null,
   "id": "0b79c954",
   "metadata": {},
   "outputs": [],
   "source": []
  }
 ],
 "metadata": {
  "kernelspec": {
   "display_name": "Python 3 (ipykernel)",
   "language": "python",
   "name": "python3"
  },
  "language_info": {
   "codemirror_mode": {
    "name": "ipython",
    "version": 3
   },
   "file_extension": ".py",
   "mimetype": "text/x-python",
   "name": "python",
   "nbconvert_exporter": "python",
   "pygments_lexer": "ipython3",
   "version": "3.10.5"
  }
 },
 "nbformat": 4,
 "nbformat_minor": 5
}
